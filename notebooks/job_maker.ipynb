{
 "cells": [
  {
   "cell_type": "code",
   "execution_count": 2,
   "id": "046d4486-c4f2-421c-8fa4-0a13aa71ba00",
   "metadata": {},
   "outputs": [],
   "source": [
    "from job_maker import *\n",
    "import numpy as np"
   ]
  },
  {
   "cell_type": "code",
   "execution_count": 2,
   "id": "094b66c8-52ac-4fa6-9e08-0d27f0405777",
   "metadata": {},
   "outputs": [],
   "source": [
    "graph_pkl = \"/home/unibas/boittier/fdcm_project/mdcms/methanol/H.obj\" \n",
    "outdir = \"/data/unibas/boittier/fmdcm_test\"\n",
    "job = Job(graph_pkl, outdir)\n",
    "job.scan_all()"
   ]
  },
  {
   "cell_type": "code",
   "execution_count": 4,
   "id": "df1a0cc6-97ca-4de6-8cfa-54a5b131256d",
   "metadata": {},
   "outputs": [],
   "source": [
    "graph_pkl = \"/home/unibas/boittier/fdcm_project/mdcms/methanol/H.obj\" \n",
    "outdir = \"/data/unibas/boittier/fmdcm_t1\"\n",
    "job = Job(graph_pkl, outdir, l2=100)\n",
    "job.scan_all()"
   ]
  },
  {
   "cell_type": "code",
   "execution_count": 7,
   "id": "0807e1c7-46f7-4d69-83d4-cab39b9bac80",
   "metadata": {},
   "outputs": [
    {
     "name": "stderr",
     "output_type": "stream",
     "text": [
      "/home/unibas/boittier/psi4conda/lib/python3.8/site-packages/numpy/core/fromnumeric.py:3440: RuntimeWarning: Mean of empty slice.\n",
      "  return _methods._mean(a, axis=axis, dtype=dtype,\n",
      "/home/unibas/boittier/psi4conda/lib/python3.8/site-packages/numpy/core/_methods.py:189: RuntimeWarning: invalid value encountered in double_scalars\n",
      "  ret = ret.dtype.type(ret / rcount)\n"
     ]
    }
   ],
   "source": [
    "graph_pkl = \"/home/unibas/boittier/fdcm_project/mdcms/methanol/H.obj\" \n",
    "outdir = \"/data/unibas/boittier/fmdcm_t2.med\"\n",
    "job = Job(graph_pkl, outdir, l2=100)\n",
    "job.scan_avg(\"/data/unibas/boittier/fmdcm_t1\", method=np.median)"
   ]
  },
  {
   "cell_type": "code",
   "execution_count": 8,
   "id": "fb24c3a9-fd03-4cc1-a4cc-ce54d393b3b5",
   "metadata": {},
   "outputs": [
    {
     "name": "stderr",
     "output_type": "stream",
     "text": [
      "/home/unibas/boittier/psi4conda/lib/python3.8/site-packages/numpy/core/fromnumeric.py:3440: RuntimeWarning: Mean of empty slice.\n",
      "  return _methods._mean(a, axis=axis, dtype=dtype,\n",
      "/home/unibas/boittier/psi4conda/lib/python3.8/site-packages/numpy/core/_methods.py:189: RuntimeWarning: invalid value encountered in double_scalars\n",
      "  ret = ret.dtype.type(ret / rcount)\n"
     ]
    }
   ],
   "source": [
    "graph_pkl = \"/home/unibas/boittier/fdcm_project/mdcms/methanol/H.obj\" \n",
    "outdir = \"/data/unibas/boittier/fmdcm_t2.mean\"\n",
    "job = Job(graph_pkl, outdir, l2=100)\n",
    "job.scan_avg(\"/data/unibas/boittier/fmdcm_t1\", method=np.mean)"
   ]
  },
  {
   "cell_type": "code",
   "execution_count": 2,
   "id": "d66619f4-e406-4c55-b483-14cf954e4250",
   "metadata": {},
   "outputs": [],
   "source": [
    "graph_pkl = \"/home/unibas/boittier/fdcm_project/mdcms/methanol/H.obj\" \n",
    "outdir = \"/data/unibas/boittier/fmdcm_test_2\"\n",
    "job = Job(graph_pkl, outdir)\n",
    "job.scan_avg(\"/data/unibas/boittier/fmdcm_test\")"
   ]
  },
  {
   "cell_type": "code",
   "execution_count": 3,
   "id": "fab444ff-3fb4-4f2b-94bf-1c5cc2602dd0",
   "metadata": {},
   "outputs": [
    {
     "name": "stderr",
     "output_type": "stream",
     "text": [
      "/home/unibas/boittier/psi4conda/lib/python3.8/site-packages/numpy/core/fromnumeric.py:3440: RuntimeWarning: Mean of empty slice.\n",
      "  return _methods._mean(a, axis=axis, dtype=dtype,\n",
      "/home/unibas/boittier/psi4conda/lib/python3.8/site-packages/numpy/core/_methods.py:189: RuntimeWarning: invalid value encountered in double_scalars\n",
      "  ret = ret.dtype.type(ret / rcount)\n"
     ]
    }
   ],
   "source": []
  },
  {
   "cell_type": "code",
   "execution_count": 4,
   "id": "94c47525-9e62-42f5-8d5e-75b1d8dad60b",
   "metadata": {},
   "outputs": [
    {
     "name": "stderr",
     "output_type": "stream",
     "text": [
      "/home/unibas/boittier/psi4conda/lib/python3.8/site-packages/numpy/core/fromnumeric.py:3440: RuntimeWarning: Mean of empty slice.\n",
      "  return _methods._mean(a, axis=axis, dtype=dtype,\n",
      "/home/unibas/boittier/psi4conda/lib/python3.8/site-packages/numpy/core/_methods.py:189: RuntimeWarning: invalid value encountered in double_scalars\n",
      "  ret = ret.dtype.type(ret / rcount)\n"
     ]
    }
   ],
   "source": [
    "graph_pkl = \"/home/unibas/boittier/fdcm_project/mdcms/methanol/H.obj\" \n",
    "outdir = \"/data/unibas/boittier/fmdcm_test_3\"\n",
    "job = Job(graph_pkl, outdir)\n",
    "job.scan_avg(\"/data/unibas/boittier/fmdcm_test_2\")"
   ]
  },
  {
   "cell_type": "code",
   "execution_count": 7,
   "id": "1435558a-ae5b-4fca-be90-085d43ced689",
   "metadata": {},
   "outputs": [
    {
     "name": "stderr",
     "output_type": "stream",
     "text": [
      "/home/unibas/boittier/psi4conda/lib/python3.8/site-packages/numpy/core/fromnumeric.py:3440: RuntimeWarning: Mean of empty slice.\n",
      "  return _methods._mean(a, axis=axis, dtype=dtype,\n",
      "/home/unibas/boittier/psi4conda/lib/python3.8/site-packages/numpy/core/_methods.py:189: RuntimeWarning: invalid value encountered in double_scalars\n",
      "  ret = ret.dtype.type(ret / rcount)\n"
     ]
    }
   ],
   "source": [
    "graph_pkl = \"/home/unibas/boittier/fdcm_project/mdcms/methanol/H.obj\" \n",
    "outdir = \"/data/unibas/boittier/fmdcm_test_4\"\n",
    "job = Job(graph_pkl, outdir, l2=50)\n",
    "job.scan_avg(\"/data/unibas/boittier/fmdcm_test_3\")"
   ]
  },
  {
   "cell_type": "code",
   "execution_count": 3,
   "id": "36b74de1-a247-4049-abc6-b7146cbb25f9",
   "metadata": {},
   "outputs": [
    {
     "name": "stderr",
     "output_type": "stream",
     "text": [
      "/home/unibas/boittier/psi4conda/lib/python3.8/site-packages/numpy/core/fromnumeric.py:3440: RuntimeWarning: Mean of empty slice.\n",
      "  return _methods._mean(a, axis=axis, dtype=dtype,\n",
      "/home/unibas/boittier/psi4conda/lib/python3.8/site-packages/numpy/core/_methods.py:189: RuntimeWarning: invalid value encountered in double_scalars\n",
      "  ret = ret.dtype.type(ret / rcount)\n"
     ]
    }
   ],
   "source": [
    "graph_pkl = \"/home/unibas/boittier/fdcm_project/mdcms/methanol/H.obj\" \n",
    "outdir = \"/data/unibas/boittier/fmdcm_test_4.med\"\n",
    "job = Job(graph_pkl, outdir, l2=100)\n",
    "job.scan_avg(\"/data/unibas/boittier/fmdcm_test_3\", method=np.median)"
   ]
  },
  {
   "cell_type": "code",
   "execution_count": null,
   "id": "3c1ea390-747d-4844-b2d8-bbd6635247bb",
   "metadata": {},
   "outputs": [],
   "source": []
  }
 ],
 "metadata": {
  "kernelspec": {
   "display_name": "Python 3",
   "language": "python",
   "name": "python3"
  },
  "language_info": {
   "codemirror_mode": {
    "name": "ipython",
    "version": 3
   },
   "file_extension": ".py",
   "mimetype": "text/x-python",
   "name": "python",
   "nbconvert_exporter": "python",
   "pygments_lexer": "ipython3",
   "version": "3.8.12"
  }
 },
 "nbformat": 4,
 "nbformat_minor": 5
}
