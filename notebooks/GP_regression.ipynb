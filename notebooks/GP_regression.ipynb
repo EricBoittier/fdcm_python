{
 "cells": [
  {
   "cell_type": "code",
   "execution_count": 6,
   "id": "e3b41fd4-3651-40a0-a4fe-0e862c3a71e3",
   "metadata": {},
   "outputs": [],
   "source": [
    "import os\n",
    "import pandas as pd\n",
    "from pandas import DataFrame,Series\n",
    "from sklearn import tree\n",
    "import matplotlib\n",
    "import numpy as np\n",
    "import matplotlib.pyplot as plt\n",
    "from sklearn import svm\n",
    "from sklearn.preprocessing import StandardScaler\n",
    "# !pip install statsmodels\n",
    "import statsmodels.formula.api as smf\n",
    "import statsmodels.api as sm\n",
    "from mpl_toolkits.mplot3d import Axes3D\n",
    "import seaborn as sns\n",
    "from sklearn import neighbors\n",
    "from sklearn import linear_model\n",
    "import sklearn\n",
    "import autosklearn.regression\n",
    "from sklearn.gaussian_process.kernels import DotProduct, WhiteKernel,RBF\n",
    "from sklearn.gaussian_process import GaussianProcessRegressor\n",
    "from sklearn.linear_model import Ridge\n",
    "from sklearn.kernel_ridge import KernelRidge\n",
    "from sklearn.preprocessing import StandardScaler\n",
    "\n",
    "import sys\n",
    "sys.path.insert(0,'/home/unibas/boittier/fdcm_python/')\n",
    "\n",
    "from fdcm_python import *\n",
    "\n",
    "def scale_min_max(data, x):\n",
    "    # print(data)\n",
    "    # print(x)\n",
    "    return (x - data.min())/(data.max() - data.min())\n",
    "\n",
    "def inv_scale_min_max(x, dmin, dmax):\n",
    "    return x * (dmax - dmin) + dmin\n",
    "    \n",
    "    \n",
    "def scale_Z(data, x):\n",
    "    # print(data)\n",
    "    # print(x)\n",
    "    return (x - data.mean())/(data.std())\n",
    "\n",
    "def inv_scale_Z(x, dmean, dstd):\n",
    "    return x * dstd + dmean\n",
    "\n",
    "def evaluate_rmse(structure_key, results):\n",
    "    from fdcm_python import mdcm\n",
    "    \n",
    "    local_pos = []\n",
    "\n",
    "    for i in range(30):\n",
    "        key = results[0][i]\n",
    "        model = results[1][i]\n",
    "        min_max = results[2][i]\n",
    "        result = inv_scale_min_max(model.predict([uptri_df.loc[structure_key]]), min_max[0], min_max[1])\n",
    "        local_pos.append(result)\n",
    "\n",
    "    \n",
    "    mdcm_obj = mdcm_set_up([structure_key], first=False, local_pos=None)\n",
    "    \n",
    "    initial_rmse = mdcm_obj.get_rmse()\n",
    "    \n",
    "    clcl = mdcm_obj.mdcm_clcl\n",
    "    charges = clcl.copy()\n",
    "    new_clcl = get_clcl(local_pos, charges)\n",
    "    \n",
    "    mdcm_obj.dealloc_all()\n",
    "    \n",
    "    # mdcm_obj.set_clcl(new_clcl)\n",
    "    \n",
    "    mdcm = mdcm_set_up([structure_key], first=False, local_pos=new_clcl)\n",
    "    final_rmse = mdcm.get_rmse()\n",
    "    \n",
    "    # Write MDCM global from local and Fitted ESP cube files\n",
    "    mdcm.write_cxyz_files()\n",
    "    mdcm.write_mdcm_cube_files()\n",
    "    \n",
    "    print(\"{} {:.2f} {:.2f}\".format(structure_key, initial_rmse, final_rmse))\n",
    "    \n",
    "    mdcm.dealloc_all()\n",
    "    \n",
    "    # return #initial_rmse, final_rmse\n",
    "\n",
    "df_name = \"/home/unibas/boittier/fdcm_python/data/dataframes/fmdcm_t1.obj\"\n",
    "df = pd.read_pickle(df_name)\n",
    "lcs_df = pd.DataFrame(dict(df[\"lcs\"])).T\n",
    "rename = {i: f\"q{i//3}ax{i%3}\" for i in range(30)}\n",
    "lcs_df.rename(columns=rename, inplace=True)\n",
    "uptri_df = pd.DataFrame(dict(df[\"uptriDM\"])).T\n"
   ]
  },
  {
   "cell_type": "code",
   "execution_count": 2,
   "id": "718ece30-b0b2-4ac1-bed3-889ef1c244ca",
   "metadata": {},
   "outputs": [],
   "source": [
    "# graph_pkl = \"/home/unibas/boittier/fdcm_project/mdcms/methanol/H.obj\" \n",
    "# G = pd.read_pickle(graph_pkl)\n",
    "\n",
    "# def get_neighbours_weights(i):\n",
    "#     edges = G.edges(2495)\n",
    "#     e_node = []\n",
    "#     e_weight = []\n",
    "#     for e in edges:\n",
    "#         e_node.append(e[1])\n",
    "#         e_weight.append(G.get_edge_data(*e)[\"weight\"])\n",
    "    \n",
    "#     return (e_node, e_weight)\n",
    "\n"
   ]
  },
  {
   "cell_type": "code",
   "execution_count": null,
   "id": "47ed4db3-2448-4ba9-a446-0c6eaed79ec4",
   "metadata": {},
   "outputs": [],
   "source": []
  },
  {
   "cell_type": "code",
   "execution_count": 3,
   "id": "44a1b1c0-45ec-412a-a970-644f58f3600d",
   "metadata": {},
   "outputs": [],
   "source": [
    "\n",
    "# df"
   ]
  },
  {
   "cell_type": "code",
   "execution_count": 4,
   "id": "d216deb2-f97b-4ab8-a8b8-650e836c2bc3",
   "metadata": {},
   "outputs": [],
   "source": [
    "def run_regression(df_name, alpha=1e-5, plot = False, test_size=0.5):\n",
    "\n",
    "    df = pd.read_pickle(df_name)\n",
    "\n",
    "    lcs_df = pd.DataFrame(dict(df[\"lcs\"])).T\n",
    "    rename = {i: f\"q{i//3}ax{i%3}\" for i in range(30)}\n",
    "    lcs_df.rename(columns=rename, inplace=True)\n",
    "    uptri_df = pd.DataFrame(dict(df[\"uptriDM\"])).T\n",
    "\n",
    "    X = uptri_df\n",
    "\n",
    "    RANDSTATE = 0\n",
    "    \n",
    "    models = []\n",
    "    scale_parms = []\n",
    "    r2 = []\n",
    "    keys = lcs_df.keys()\n",
    "    \n",
    "    # a kernel for each axis of each charge \n",
    "    for key in keys:\n",
    "        \n",
    "        y = lcs_df[key]\n",
    "        \n",
    "        y = scale_min_max(y,y)\n",
    "\n",
    "        X_train, X_test, y_train, y_test = \\\n",
    "            sklearn.model_selection.train_test_split(X, y, test_size=test_size, random_state=RANDSTATE)\n",
    "\n",
    "        kernel = RBF() \n",
    "        method = KernelRidge #GaussianProcessRegressor\n",
    "        model = KernelRidge(\n",
    "            alpha=alpha,\n",
    "            kernel=kernel,\n",
    "            # random_state=RANDSTATE\n",
    "        ).fit(X_train, y_train)\n",
    "\n",
    "        # model = Ridge(alpha=1.0).fit(X_train, y_train)\n",
    "        # model = KernelRidge(alpha=1.0, kernel=kernel).fit(X_train, y_train)\n",
    "\n",
    "        # print(key)\n",
    "        train_predictions = model.predict(X_train)\n",
    "        # print(\"Train R2 score:\", sklearn.metrics.r2_score(y_train, train_predictions))\n",
    "\n",
    "        test_predictions = model.predict(X_test)\n",
    "        r2_test = sklearn.metrics.r2_score(y_test, test_predictions)\n",
    "        # print(\"Test R2 score:\", r2_test)\n",
    "        \n",
    "        models.append(model)\n",
    "        scale_parms.append((lcs_df[key].min(), lcs_df[key].max()))\n",
    "        \n",
    "        r2.append(r2_test)\n",
    "\n",
    "        if plot:\n",
    "\n",
    "            plt.scatter(train_predictions, y_train, label=\"Train samples\", c='#d95f02')\n",
    "            plt.scatter(test_predictions, y_test, label=\"Test samples\", c='#7570b3')\n",
    "            plt.xlabel(\"Predicted value\")\n",
    "            plt.ylabel(\"True value\")\n",
    "            plt.legend()\n",
    "\n",
    "            xmin = 0 #min(train_predictions)\n",
    "            xmax = 1 #max(train_predictions)\n",
    "\n",
    "            plt.plot([xmin, xmax], [xmin, xmax], c='k', zorder=0)\n",
    "            plt.xlim([xmin, xmax])\n",
    "            plt.ylim([xmin, xmax])\n",
    "            plt.title(key)\n",
    "\n",
    "            plt.tight_layout()\n",
    "            plt.gca().set_aspect('equal')\n",
    "            plt.show()\n",
    "            \n",
    "    return keys, models, scale_parms, r2, X_test, X_train\n",
    "\n"
   ]
  },
  {
   "cell_type": "code",
   "execution_count": 5,
   "id": "48ff34a5-76ca-40b9-a3b0-aafbc639bfe8",
   "metadata": {
    "tags": []
   },
   "outputs": [],
   "source": [
    "df_name = \"data/fmdcm_t1.obj\"\n",
    "results_t1 = run_regression(df_name, alpha=5e-5, plot = False)"
   ]
  },
  {
   "cell_type": "code",
   "execution_count": 6,
   "id": "10b45ec5-7f2b-42a6-b67f-3278debff952",
   "metadata": {},
   "outputs": [],
   "source": [
    "df_name = \"data/fmdcm_t2.med.obj\"\n",
    "results_t2_med = run_regression(df_name, alpha=5e-5, plot = False)"
   ]
  },
  {
   "cell_type": "code",
   "execution_count": 7,
   "id": "ad52aa87-b56c-47c3-8977-a6af39ad602d",
   "metadata": {},
   "outputs": [],
   "source": [
    "# df_name = \"data/fmdcm_t2.mean.obj\"\n",
    "# results_t2_mean = run_regression(df_name, alpha=5e-5, plot = False)"
   ]
  },
  {
   "cell_type": "code",
   "execution_count": 6,
   "id": "3ae7b24b-6640-4853-becf-94b84043201f",
   "metadata": {},
   "outputs": [
    {
     "name": "stdout",
     "output_type": "stream",
     "text": [
      "[1763, 865, 269, 1619, 947, 248, 894, 1282, 2160, 737, 1814, 2234, 1854, 924, 394, 1013, 1354, 70, 1647, 2128, 2291, 871, 1853, 562, 1178, 202, 1357, 266, 2256, 2325, 1181, 1529, 731, 1615, 1008, 1272, 4, 1387, 1944, 87, 817, 864, 1685, 516, 1673, 1919, 1403, 120, 632, 1606, 2391, 278, 1579, 1266, 1334, 714, 603, 1009, 1208, 1280, 1423, 664, 1743, 2465, 2322, 1694, 475, 1283, 1442, 416, 2238, 1516, 343, 1541, 2219, 1890, 1654, 321, 314, 160, 1300, 1509, 2327, 1091, 2394, 2355, 496, 296, 1355, 124, 503, 1682, 2444, 1778, 1106, 384, 1550, 1744, 1097, 726, 835, 958, 960, 1674, 197, 1677, 1591, 2454, 2324, 481, 485, 1306, 2280, 361, 916, 2039, 1262, 1124, 724, 1331, 2232, 2347, 1478, 2343, 179, 1006, 1248, 1397, 284, 2079, 2300, 1553, 1093, 294, 408, 435, 1576, 1332, 624, 2055, 1816, 2166, 351, 712, 426, 2351, 1250, 1142, 1508, 2002, 1979, 750, 1084, 1793, 139, 2216, 1659, 1856, 1456, 1639, 1053, 1480, 497, 2491, 221, 2121, 2377, 91, 1996, 226, 1117, 2117, 463, 1887, 1218, 931, 501, 739, 561, 2228, 277, 1539, 2167, 1004, 1099, 387, 2233, 407, 742, 1708, 747, 2005, 1214, 1500, 2364, 2226, 1059, 689, 558, 1912, 251, 609, 619, 290, 998, 2263, 177, 1240, 842, 228, 1933, 1404, 702, 791, 1025, 489, 1896, 638, 114, 642, 743, 1675, 776, 1470, 2495, 1015, 1636, 2007, 1838, 1225, 1916, 2195, 2458, 1193, 1351, 2412, 1742, 49, 530, 1036, 1608, 477, 1100, 1131, 1948, 1195, 1730, 1725, 2463, 1210, 2206, 1664, 2261, 2375, 182, 1692, 50, 627, 1797, 2467, 1129, 208, 1275, 47, 1487, 784, 1352, 2498, 2265, 1293, 2017, 1063, 198, 926, 2422, 1515, 320, 552, 2339, 1363, 2099, 1903, 1038, 437, 1216, 1, 1975, 884, 1413, 2386, 215, 326, 427, 355, 1021, 1296, 2490, 1346, 1741, 2149, 159, 1670, 1703, 997, 1662, 1648, 1381, 1534, 1064, 189, 1571, 1710, 1984, 466, 1600, 735, 2481, 844, 2171, 169, 972, 2244, 2486, 1132, 178, 1222, 428, 415, 1256, 6, 2397, 1583, 2359, 719, 380, 744, 1836, 83, 1699, 2197, 1495, 196, 157, 140, 918, 2127, 1234, 1458, 1957, 1046, 1385, 1333, 2400, 60, 2042, 2048, 692, 560, 668, 985, 2430, 2065, 2286, 584, 861, 1325, 1394, 36, 1968, 2204, 1721, 151, 762, 927, 1504, 1752, 684, 1697, 1563, 1728, 1841, 2210, 814, 1998, 2431, 1158, 1273, 523, 1295, 2372, 1681, 449, 1430, 2170, 1169, 1827, 1850, 346, 59, 1528, 238, 1252, 973, 910, 549, 488, 404, 2311, 1028, 436, 1125, 186, 1803, 1130, 21, 722, 1846, 1452, 1270, 1835, 2472, 1732, 339, 92, 191, 1041, 378, 366, 675, 1019, 818, 1960, 1440, 227, 1672, 991, 1952, 874, 1314, 783, 2304, 2158, 807, 370, 313, 289, 907, 1010, 514, 687, 887, 1939, 2031, 386, 145, 943, 2072, 1303, 559, 2043, 1562, 490, 723, 459, 1787, 1629, 1650, 2159, 920, 2185, 1133, 2235, 1289, 1176, 547, 1224, 491, 292, 371, 1001, 2289, 1646, 674, 62, 161, 176, 106, 1645, 258, 498, 2135, 2038, 1605, 327, 441, 1718, 1858, 688, 1668, 465, 2236, 1348, 1215, 2357, 25, 2483, 1577, 108, 1669, 1305, 2246, 1637, 2306, 1754, 1498, 231, 276, 1307, 2362, 1321, 764, 2353, 2259, 691, 400, 1527, 1510, 1877, 2132, 1764, 981, 1731, 2369, 42, 1935, 1760, 149, 1104, 536, 430, 587, 458, 1690, 831, 1909, 641, 2186, 2262, 168, 1411, 89, 1723, 580, 1779, 2211, 677, 795, 2313, 1558, 464, 1749, 1212, 352, 2172, 2109, 989, 793, 1955, 2314, 1365, 2275, 359, 506, 1188, 1733, 1345, 816, 1412, 661, 112, 2333, 154, 158, 667, 2066, 2319, 2496, 2009, 101, 1067, 770, 1573, 589, 803, 646, 2052, 39, 908, 1689, 656, 2449, 2134, 2030, 2448, 649, 2090, 1872, 1949, 429, 1929, 1704, 476, 1627, 1747, 362, 2337, 1568, 800, 736, 295, 344, 708, 670, 1078, 690, 1089, 235, 629, 137, 2137, 607, 2264, 1288, 223, 1422, 1005, 1906, 779, 2406, 2077, 2069, 2230, 247, 2403, 487, 529, 385, 819, 2267, 1601, 1900, 209, 1616, 574, 130, 1852, 827, 1840, 2150, 820, 272, 976, 135, 1043, 2136, 19, 2283, 554, 604, 1631, 778, 937, 508, 792, 2028, 1390, 1625, 2183, 671, 372, 275, 433, 1873, 2427, 929, 190, 86, 1572, 591, 533, 1844, 305, 658, 1277, 2, 1942, 93, 2026, 1832, 701, 1867, 2443, 962, 1294, 1623, 755, 1737, 354, 1083, 862, 569, 1221, 2342, 80, 206, 26, 2296, 733, 1118, 63, 1378, 2384, 1420, 2051, 1753, 987, 1370, 2187, 1426, 2189, 1389, 356, 1698, 1116, 443, 1535, 1617, 150, 2004, 1531, 512, 256, 2405, 291, 1074, 397, 1665, 1022, 1870, 2330, 1652, 1170, 695, 720, 2245, 10, 754, 342, 893, 1551, 768, 2367, 833, 1313, 1520, 1630, 996, 673, 2413, 1693, 913, 1839, 1557, 787, 2060, 563, 2441, 1767, 1915, 2015, 406, 1620, 582, 1156, 1024, 1598, 880, 1054, 2331, 2455, 192, 596, 2402, 1881, 66, 617, 1898, 1134, 38, 109, 199, 2190, 2453, 1184, 982, 1475, 1144, 316, 2379, 347, 3, 2393, 1439, 1247, 598, 1488, 1155, 2260, 1353, 1691, 97, 1518, 1037, 2239, 1484, 1805, 1886, 1959, 1503, 938, 1399, 148, 785, 367, 1989, 878, 683, 71, 478, 1815, 912, 1973, 311, 100, 1108, 511, 1657, 1795, 892, 896, 1446, 301, 975, 843, 474, 577, 1197, 932, 890, 759, 1311, 2141, 1261, 786, 963, 1798, 122, 242, 1863, 1683, 1789, 1876, 1145, 1172, 1638, 1485, 1402, 1755, 728, 146, 1060, 763, 1239, 1401, 859, 614, 2349, 1150, 462, 1102, 214, 1864, 173, 1058, 906, 2401, 1514, 1392, 239, 2288, 594]\n"
     ]
    }
   ],
   "source": [
    "X_train_indices = list(results_t1[5].index)\n",
    "# print(X_train_indices)\n",
    "X_test_indices = list(results_t1[4].index)\n",
    "print(X_test_indices)"
   ]
  },
  {
   "cell_type": "code",
   "execution_count": 7,
   "id": "8d68c2c1-018f-4126-a85d-46d74468c4db",
   "metadata": {},
   "outputs": [],
   "source": [
    "# # initial_rmsd = []\n",
    "# # final_rmsd = []\n",
    "\n",
    "# for i in X_test_indices[-100:]:\n",
    "#     evaluate_rmse(i, results_t1)\n",
    "#     # initial, final = evaluate_rmse(i, results_t1)\n",
    "#     # initial_rmsd.append(initial)\n",
    "#     # final_rmsd.append(final)"
   ]
  },
  {
   "cell_type": "code",
   "execution_count": null,
   "id": "82b0b827-b0c2-4531-94b3-9ce79170ee60",
   "metadata": {},
   "outputs": [
    {
     "name": "stdout",
     "output_type": "stream",
     "text": [
      "1763 1.01 0.68\n",
      "865 0.79 0.57\n"
     ]
    }
   ],
   "source": [
    "for i in X_test_indices[:]:\n",
    "    evaluate_rmse(i, results_t1)"
   ]
  },
  {
   "cell_type": "code",
   "execution_count": null,
   "id": "e5d8dacd-7989-43d4-954b-58192edf4785",
   "metadata": {},
   "outputs": [
    {
     "name": "stdout",
     "output_type": "stream",
     "text": [
      "1763 1.01 0.59\n",
      "865 0.79 0.52\n"
     ]
    }
   ],
   "source": [
    "for i in X_test_indices[:]:\n",
    "    evaluate_rmse(i, results_t2_med)"
   ]
  },
  {
   "cell_type": "code",
   "execution_count": 17,
   "id": "c4469c12-0a04-4b30-b8a3-60d9b38a4400",
   "metadata": {},
   "outputs": [
    {
     "name": "stdout",
     "output_type": "stream",
     "text": [
      "predicted local charges\n",
      "predicted initial rmse\n",
      "202 1.17 0.65\n"
     ]
    }
   ],
   "source": [
    "evaluate_rmse(202, results_t1)"
   ]
  },
  {
   "cell_type": "code",
   "execution_count": null,
   "id": "fa6785a0-fa19-4bba-99c4-5b7d1a510881",
   "metadata": {},
   "outputs": [],
   "source": []
  },
  {
   "cell_type": "code",
   "execution_count": 6,
   "id": "a08f2a14-e74c-48fb-a055-7343029bdce6",
   "metadata": {},
   "outputs": [
    {
     "name": "stdout",
     "output_type": "stream",
     "text": [
      "predicted local charges\n",
      "predicted initial rmse\n",
      "1001 1.17 0.60\n"
     ]
    }
   ],
   "source": [
    "for i in df.index[1:2]:\n",
    "    evaluate_rmse(i, results_t1)"
   ]
  },
  {
   "cell_type": "code",
   "execution_count": 7,
   "id": "5d9743a6-abb4-4ddd-9ea9-a43a844a2f25",
   "metadata": {},
   "outputs": [
    {
     "name": "stdout",
     "output_type": "stream",
     "text": [
      "predicted local charges\n",
      "predicted initial rmse\n",
      "1000 1.59 0.78\n"
     ]
    }
   ],
   "source": [
    "for i in df.index[:1]:\n",
    "    evaluate_rmse(i, results_t1)"
   ]
  },
  {
   "cell_type": "code",
   "execution_count": null,
   "id": "3c49c328-fb63-4e3e-8200-3342d041fdb3",
   "metadata": {},
   "outputs": [],
   "source": [
    "for i in df.index[2:4]:\n",
    "    evaluate_rmse(i, results_t1)"
   ]
  },
  {
   "cell_type": "code",
   "execution_count": 265,
   "id": "3e8002b5-2d05-4931-a1d6-bc2a29712188",
   "metadata": {},
   "outputs": [
    {
     "data": {
      "text/plain": [
       "(0.0, 1.0)"
      ]
     },
     "execution_count": 265,
     "metadata": {},
     "output_type": "execute_result"
    },
    {
     "data": {
      "image/png": "[encoded data removed]",
      "text/plain": [
       "<Figure size 432x288 with 1 Axes>"
      ]
     },
     "metadata": {
      "needs_background": "light"
     },
     "output_type": "display_data"
    }
   ],
   "source": [
    "plt.bar(results_t1[0], results_t1[3], label=\"t1\", alpha=0.85)\n",
    "plt.bar(results_t2_mean[0], results_t2_mean[3], label=\"t2mean\", alpha=0.85)\n",
    "plt.bar(results_t2_med[0], results_t2_med[3], label=\"t2med\", alpha=0.85)\n",
    "plt.legend(loc=8)\n",
    "plt.ylim(0,1)"
   ]
  },
  {
   "cell_type": "code",
   "execution_count": 8,
   "id": "3c497531-112e-474b-b416-782a80eccfc1",
   "metadata": {
    "tags": []
   },
   "outputs": [
    {
     "name": "stdout",
     "output_type": "stream",
     "text": [
      "predicted local charges\n",
      "predicted initial rmse\n",
      "1000 1.59 0.78\n"
     ]
    }
   ],
   "source": [
    "evaluate_rmse(1000, results_t1)"
   ]
  },
  {
   "cell_type": "code",
   "execution_count": null,
   "id": "97794f04-37f0-480b-bc3e-3a4507e2e789",
   "metadata": {},
   "outputs": [],
   "source": [
    "evaluate_rmse(1001, results_t1)"
   ]
  },
  {
   "cell_type": "code",
   "execution_count": null,
   "id": "05c39fb1-123e-4e69-8147-a2dde09a49b2",
   "metadata": {},
   "outputs": [],
   "source": []
  },
  {
   "cell_type": "code",
   "execution_count": 1,
   "id": "4aa30f96-fd22-4d7e-9c90-57bc8c6ffe0a",
   "metadata": {},
   "outputs": [],
   "source": [
    "\n",
    "\n",
    "\n",
    "    \n",
    "    # mdcm.dealloc_all()\n",
    "    "
   ]
  },
  {
   "cell_type": "code",
   "execution_count": null,
   "id": "ee06638a-ce88-47d5-9ca6-2f3a0bfb1864",
   "metadata": {},
   "outputs": [],
   "source": []
  },
  {
   "cell_type": "code",
   "execution_count": null,
   "id": "88996262-a4b6-40db-b811-46e5251159ed",
   "metadata": {},
   "outputs": [],
   "source": []
  },
  {
   "cell_type": "code",
   "execution_count": null,
   "id": "022db136-ea56-4ad4-8a63-a9e6c15bb19d",
   "metadata": {},
   "outputs": [],
   "source": []
  },
  {
   "cell_type": "code",
   "execution_count": null,
   "id": "d182aa88-1ac9-449d-99e4-547c731d3d84",
   "metadata": {},
   "outputs": [],
   "source": []
  },
  {
   "cell_type": "code",
   "execution_count": null,
   "id": "9669e3b7-c82a-4339-a6dc-660ecadbcb86",
   "metadata": {},
   "outputs": [],
   "source": []
  }
 ],
 "metadata": {
  "kernelspec": {
   "display_name": "Python 3",
   "language": "python",
   "name": "python3"
  },
  "language_info": {
   "codemirror_mode": {
    "name": "ipython",
    "version": 3
   },
   "file_extension": ".py",
   "mimetype": "text/x-python",
   "name": "python",
   "nbconvert_exporter": "python",
   "pygments_lexer": "ipython3",
   "version": "3.8.12"
  }
 },
 "nbformat": 4,
 "nbformat_minor": 5
}
