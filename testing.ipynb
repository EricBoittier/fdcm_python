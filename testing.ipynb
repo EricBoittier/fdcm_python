{
 "cells": [
  {
   "cell_type": "code",
   "execution_count": 1,
   "id": "a11ea495-a16f-4b50-a824-e503c1dbb1ea",
   "metadata": {},
   "outputs": [],
   "source": [
    "from regression import *"
   ]
  },
  {
   "cell_type": "code",
   "execution_count": 3,
   "id": "2dbfc6b0-0d55-4f3d-b4cb-8dd17b58212d",
   "metadata": {},
   "outputs": [],
   "source": [
    "output = run_regression(\"data/dataframes/fmdcm_t1.obj\")"
   ]
  },
  {
   "cell_type": "code",
   "execution_count": 5,
   "id": "c7ab7754-8cf2-4e70-aaea-1a50a4234935",
   "metadata": {},
   "outputs": [
    {
     "data": {
      "text/plain": [
       "dict_keys(['keys', 'df', 'models', 'scale_parms', 'r2', 'test', 'train'])"
      ]
     },
     "execution_count": 5,
     "metadata": {},
     "output_type": "execute_result"
    }
   ],
   "source": [
    "output.keys()"
   ]
  },
  {
   "cell_type": "code",
   "execution_count": 6,
   "id": "0ddaa702-81e8-4327-9b9b-3a4a41f28d83",
   "metadata": {},
   "outputs": [
    {
     "data": {
      "text/plain": [
       "Index(['rmsd_i', 'rmsd_f', 'chg_rmsd', 'ref_rmsd', 'lcs', 'ncs', 'distM',\n",
       "       'flatDM', 'uptriDM', 'rmsd_dif'],\n",
       "      dtype='object')"
      ]
     },
     "execution_count": 6,
     "metadata": {},
     "output_type": "execute_result"
    }
   ],
   "source": [
    "output[\"df\"].keys()"
   ]
  },
  {
   "cell_type": "code",
   "execution_count": 8,
   "id": "830900ef-c00a-43e6-9c3b-8155543cc537",
   "metadata": {},
   "outputs": [
    {
     "data": {
      "text/plain": [
       "1000    0.993186\n",
       "1001    0.744365\n",
       "1010    0.634457\n",
       "1011    0.782734\n",
       "1021    0.756636\n",
       "          ...   \n",
       "1215    0.595464\n",
       "1218    0.574389\n",
       "1214    0.689447\n",
       "1220    0.776522\n",
       "1222    0.830510\n",
       "Name: rmsd_f, Length: 1801, dtype: float64"
      ]
     },
     "execution_count": 8,
     "metadata": {},
     "output_type": "execute_result"
    }
   ],
   "source": [
    "output[\"df\"][\"rmsd_f\"]"
   ]
  },
  {
   "cell_type": "code",
   "execution_count": null,
   "id": "975e2a36-13b1-4998-8e38-60ef8ec543cd",
   "metadata": {},
   "outputs": [],
   "source": []
  }
 ],
 "metadata": {
  "kernelspec": {
   "display_name": "Python 3",
   "language": "python",
   "name": "python3"
  },
  "language_info": {
   "codemirror_mode": {
    "name": "ipython",
    "version": 3
   },
   "file_extension": ".py",
   "mimetype": "text/x-python",
   "name": "python",
   "nbconvert_exporter": "python",
   "pygments_lexer": "ipython3",
   "version": "3.8.12"
  }
 },
 "nbformat": 4,
 "nbformat_minor": 5
}
