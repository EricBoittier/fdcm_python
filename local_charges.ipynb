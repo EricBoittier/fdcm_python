{
 "cells": [
  {
   "cell_type": "code",
   "execution_count": 245,
   "id": "78b6f574-e21e-462d-8512-d89fbd4117c2",
   "metadata": {},
   "outputs": [],
   "source": [
    "import os \n",
    "import networkx as nx\n",
    "\n",
    "import matplotlib.pyplot as plt\n",
    "from matplotlib import cm\n",
    "from matplotlib.colors import ListedColormap, LinearSegmentedColormap\n",
    "\n",
    "from scipy.spatial import distance\n",
    "import numpy as np\n",
    "\n",
    "import pandas as pd\n",
    "import seaborn as sns\n",
    "\n",
    "import qml\n",
    "from qml.math import cho_solve\n",
    "from qml.kernels import gaussian_kernel\n",
    "\n",
    "def scale_min_max(data, x):\n",
    "    # print(data)\n",
    "    # print(x)\n",
    "    return (x - data.min())/(data.max() - data.min())\n",
    "\n",
    "def scale_Z(data, x):\n",
    "    # print(data)\n",
    "    # print(x)\n",
    "    return (x - data.mean())/(data.std())\n",
    "\n",
    "\n",
    "def get_dist_matrix(atoms):\n",
    "    #https://www.kaggle.com/code/rio114/coulomb-interaction-speed-up/notebook\n",
    "    num_atoms = len(atoms)\n",
    "    loc_tile = np.tile(atoms.T, (num_atoms,1,1))\n",
    "    dist_mat = np.sqrt((loc_tile - loc_tile.T)**2).sum(axis=1)\n",
    "    return dist_mat\n",
    "\n",
    "def dihedral3(p):\n",
    "    b = p[:-1] - p[1:]\n",
    "    b[0] *= -1\n",
    "    v = np.array( [np.cross(v,b[1]) for v in [b[0], b[2]] ] )\n",
    "    # Normalize vectors\n",
    "    v /= np.sqrt(np.einsum('...i,...i', v, v)).reshape(-1,1)\n",
    "    return np.degrees(np.arccos( v[0].dot(v[1]) ))\n",
    "\n",
    "\n",
    "def angle(p):\n",
    "    ba = p[0] - p[1]\n",
    "    bc = p[2] - p[1]\n",
    "    cosine_angle = np.dot(ba, bc) / (np.linalg.norm(ba) * np.linalg.norm(bc))\n",
    "    a3 = np.degrees(np.arccos(cosine_angle))\n",
    "    return a3\n",
    "\n",
    "def load_nc(path):\n",
    "    #  load nuclear coordinates\n",
    "    nc_lines = open(path).readlines()[6:12]\n",
    "    ncs = [[float(y) for y in x.split()[2:]] for x in nc_lines]\n",
    "    return ncs\n",
    "\n"
   ]
  },
  {
   "cell_type": "code",
   "execution_count": 265,
   "id": "b0851a8c-d387-4271-a363-161f90143305",
   "metadata": {},
   "outputs": [
    {
     "name": "stdout",
     "output_type": "stream",
     "text": [
      "1706\n"
     ]
    }
   ],
   "source": [
    "pkl_path = \"/data/unibas/boittier/fmdcm_test/pickles\"\n",
    "pickles = os.listdir(pkl_path)\n",
    "\n",
    "lcs = {}\n",
    "\n",
    "for obj in pickles:\n",
    "    key = int(obj.split(\"_\")[0])\n",
    "    pkl = pd.read_pickle(os.path.join(pkl_path, obj))\n",
    "    lcs[key] = pkl[np.mod(np.arange(pkl.size)+1, 4) != 0]\n",
    "    \n",
    "print(len(lcs.keys()))\n"
   ]
  },
  {
   "cell_type": "code",
   "execution_count": 257,
   "id": "7e22de19-e5e4-49d7-aad6-ce8425855508",
   "metadata": {},
   "outputs": [],
   "source": [
    "# lcs[1]"
   ]
  },
  {
   "cell_type": "code",
   "execution_count": 258,
   "id": "3e3de0e8-c44a-4552-ba88-84593943d958",
   "metadata": {},
   "outputs": [],
   "source": [
    "# lcs[427].reshape((6,6))\n"
   ]
  },
  {
   "cell_type": "code",
   "execution_count": null,
   "id": "136acbf2-4147-4ce0-a7f7-413d94b2256e",
   "metadata": {},
   "outputs": [],
   "source": []
  },
  {
   "cell_type": "code",
   "execution_count": 266,
   "id": "e0333d94-0da4-4a9d-b0de-59f80821a313",
   "metadata": {},
   "outputs": [],
   "source": [
    "df = pd.DataFrame(lcs)\n",
    "df = df.T\n",
    "# df"
   ]
  },
  {
   "cell_type": "code",
   "execution_count": 267,
   "id": "4a8835c9-93c9-4fad-b543-7d4c0c2c061f",
   "metadata": {},
   "outputs": [],
   "source": [
    "ncs = []\n",
    "\n",
    "for index, row in df.iterrows():\n",
    "    _path_ = f\"/data/unibas/boittier/graphscan/methanol/t3/p{index}.p.cube\"\n",
    "    ncs.append(load_nc(_path_))\n",
    "    \n",
    "dms = [get_dist_matrix(np.array(x)) for x in ncs]"
   ]
  },
  {
   "cell_type": "code",
   "execution_count": 274,
   "id": "da8446d4-fb44-416a-aae4-913de5358d2a",
   "metadata": {},
   "outputs": [],
   "source": [
    "flat_dms = [x.flatten() for x in dms]"
   ]
  },
  {
   "cell_type": "code",
   "execution_count": 275,
   "id": "0b0e5c33-4f22-4657-9466-6d7c65ce6c6c",
   "metadata": {},
   "outputs": [
    {
     "name": "stdout",
     "output_type": "stream",
     "text": [
      "[0.         0.36618718 0.31414736 0.76521586 0.70860959 0.68585264\n",
      " 0.36618718 0.         0.6094046  0.40311782 0.34242241 0.3905954\n",
      " 0.31414736 0.6094046  0.         0.7069117  0.82129149 1.\n",
      " 0.76521586 0.40311782 0.7069117  0.         0.53121972 0.52761331\n",
      " 0.70860959 0.34242241 0.82129149 0.53121972 0.         0.60225621\n",
      " 0.68585264 0.3905954  1.         0.52761331 0.60225621 0.        ]\n"
     ]
    }
   ],
   "source": []
  },
  {
   "cell_type": "code",
   "execution_count": 276,
   "id": "7e947a5e-13b8-46cf-b0a0-4351b9597df2",
   "metadata": {},
   "outputs": [],
   "source": [
    "_X = np.zeros((len(df),15))\n",
    "\n",
    "for i in range(len(df)):\n",
    "    iu1 = np.triu_indices(6)\n",
    "    _ = X[i].reshape((6,6))\n",
    "    uptri = _[iu1]\n",
    "    _X[i] = uptri[uptri != 0]\n",
    "    _X[i] = scale_min_max(_X[i],_X[i])\n",
    "    \n",
    "_X[0]\n"
   ]
  },
  {
   "cell_type": "code",
   "execution_count": 279,
   "id": "bd5fd5f6-bfe4-443f-915a-50c433d413ef",
   "metadata": {},
   "outputs": [],
   "source": [
    "_X = X"
   ]
  },
  {
   "cell_type": "code",
   "execution_count": 280,
   "id": "5be580e6-8e5d-4f37-802e-c6077c6c79d7",
   "metadata": {},
   "outputs": [
    {
     "name": "stdout",
     "output_type": "stream",
     "text": [
      "867\n",
      "1706\n"
     ]
    },
    {
     "ename": "ValueError",
     "evalue": "operands could not be broadcast together with shapes (167,) (1006,) ",
     "output_type": "error",
     "traceback": [
      "\u001b[0;31m---------------------------------------------------------------------------\u001b[0m",
      "\u001b[0;31mValueError\u001b[0m                                Traceback (most recent call last)",
      "Input \u001b[0;32mIn [280]\u001b[0m, in \u001b[0;36m<cell line: 3>\u001b[0;34m()\u001b[0m\n\u001b[1;32m     45\u001b[0m \u001b[38;5;66;03m# Make the predictions\u001b[39;00m\n\u001b[1;32m     46\u001b[0m Y_predicted \u001b[38;5;241m=\u001b[39m np\u001b[38;5;241m.\u001b[39mdot(Ks, alpha)\n\u001b[0;32m---> 48\u001b[0m MSE \u001b[38;5;241m=\u001b[39m np\u001b[38;5;241m.\u001b[39mmean(np\u001b[38;5;241m.\u001b[39mabs(\u001b[43mY_predicted\u001b[49m\u001b[43m \u001b[49m\u001b[38;5;241;43m-\u001b[39;49m\u001b[43m \u001b[49m\u001b[43mY_test\u001b[49m))\n\u001b[1;32m     49\u001b[0m MSE_test \u001b[38;5;241m=\u001b[39m np\u001b[38;5;241m.\u001b[39mmean(np\u001b[38;5;241m.\u001b[39mabs(Y_test\u001b[38;5;241m.\u001b[39mmean() \u001b[38;5;241m-\u001b[39m Y_test))\n\u001b[1;32m     51\u001b[0m all_data \u001b[38;5;241m=\u001b[39m np\u001b[38;5;241m.\u001b[39mappend(Y_predicted, Y_test, axis\u001b[38;5;241m=\u001b[39m\u001b[38;5;241m0\u001b[39m)\n",
      "\u001b[0;31mValueError\u001b[0m: operands could not be broadcast together with shapes (167,) (1006,) "
     ]
    },
    {
     "data": {
      "image/png": "[encoded data removed]",
      "text/plain": [
       "<Figure size 792x648 with 6 Axes>"
      ]
     },
     "metadata": {
      "needs_background": "light"
     },
     "output_type": "display_data"
    }
   ],
   "source": [
    "ind_slice = 700\n",
    "\n",
    "for charge in range(10):\n",
    "\n",
    "    fig, ax = plt.subplots(\n",
    "        2,3, figsize=(11,9),\n",
    "        gridspec_kw={\"hspace\": 0.2, \"wspace\": 0.35}\n",
    "    )\n",
    "    # first molecules to the training set\n",
    "    X_training = _X[:ind_slice]\n",
    "    X_test = _X[ind_slice:]\n",
    "\n",
    "    sigma = 4000.0\n",
    "    K = gaussian_kernel(X_training, X_training, sigma)\n",
    "    # Add a small lambda to the diagonal of the kernel matrix\n",
    "    K[np.diag_indices_from(K)] += 1e-8\n",
    "\n",
    "    # calculate a kernel matrix between test and training data, using the same sigma\n",
    "    Ks = gaussian_kernel(X_test, X_training, sigma)\n",
    "\n",
    "    # plotting regression\n",
    "    \n",
    "    fig.suptitle(f'q{charge}', fontsize=16)\n",
    "\n",
    "    for axis in range(3):\n",
    "        df_inx = charge*3+axis\n",
    "        y = np.array([x for x in df[df_inx]]) \n",
    "        \n",
    "        print(len(_X))\n",
    "        print(len(y))\n",
    "        \n",
    "        y_orig = y.copy()\n",
    "        y = (y - np.mean(y))/np.std(y)\n",
    "        y = (y - y.min()) / (y.max() - y.min())\n",
    "\n",
    "        ax[0,axis].hist(y)\n",
    "        ax[0,axis].tick_params(labelrotation=20)\n",
    "\n",
    "        Y_training = y[:ind_slice]\n",
    "        Y_test = y[ind_slice:]\n",
    "\n",
    "        # Use the built-in Cholesky-decomposition to solve\n",
    "        alpha = cho_solve(K, Y_training)\n",
    "\n",
    "        # Make the predictions\n",
    "        Y_predicted = np.dot(Ks, alpha)\n",
    "\n",
    "        MSE = np.mean(np.abs(Y_predicted - Y_test))\n",
    "        MSE_test = np.mean(np.abs(Y_test.mean() - Y_test))\n",
    "\n",
    "        all_data = np.append(Y_predicted, Y_test, axis=0)\n",
    "        _min = min(all_data)\n",
    "        _max = max(all_data)\n",
    "\n",
    "        sns.regplot(x=Y_test, y=Y_predicted, ax=ax[1,axis])\n",
    "        \n",
    "        _range = y_orig.max() - y_orig.min()\n",
    "        \n",
    "        ax[1,axis].set_title(\"Range: {:.5f}\\n   MSE: {:.5f}\\n     Q:{:.5f}\".format(_range,MSE,MSE/MSE_test))\n",
    "        ax[1,axis].set_ylabel(\"Pred\")\n",
    "        ax[1,axis].set_xlabel(\"Test\")\n",
    "        ax[1,axis].set_box_aspect(1)\n",
    "        ax[1,axis].set_xlim(0, 1)\n",
    "        ax[1,axis].set_ylim(0, 1)\n",
    "\n",
    "    plt.savefig(f\"KR_methanol_{charge}.pdf\", bbox_inches=\"tight\")"
   ]
  },
  {
   "cell_type": "code",
   "execution_count": null,
   "id": "abdefb8d-9675-45a6-8c26-3f216eecf123",
   "metadata": {},
   "outputs": [],
   "source": []
  },
  {
   "cell_type": "code",
   "execution_count": null,
   "id": "8017df04-b783-44cd-af1f-741b8068a204",
   "metadata": {},
   "outputs": [],
   "source": []
  }
 ],
 "metadata": {
  "kernelspec": {
   "display_name": "Python 3",
   "language": "python",
   "name": "python3"
  },
  "language_info": {
   "codemirror_mode": {
    "name": "ipython",
    "version": 3
   },
   "file_extension": ".py",
   "mimetype": "text/x-python",
   "name": "python",
   "nbconvert_exporter": "python",
   "pygments_lexer": "ipython3",
   "version": "3.8.12"
  }
 },
 "nbformat": 4,
 "nbformat_minor": 5
}
